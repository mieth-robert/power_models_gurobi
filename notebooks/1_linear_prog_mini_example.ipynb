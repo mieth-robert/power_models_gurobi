{
 "cells": [
  {
   "cell_type": "markdown",
   "id": "95a97b20-dbb5-4344-be7f-a7764e804748",
   "metadata": {},
   "source": [
    "# Linear Programming Mini Example\n",
    "\n",
    "Linear programming (linear optimization) is a mathematical technique that uses a set of linear equations to find the optimal solution to a problem. It's an effective type of mathematical programming that's used to solve complex real-world problems, e.g. in energy systems."
   ]
  },
  {
   "cell_type": "markdown",
   "id": "d0d994e4-30c7-4746-9150-fc5516fc4201",
   "metadata": {},
   "source": [
    "**1. Load packages**\n",
    "   - We are using the gurobipy package to formulate a mathematical model and solve it. "
   ]
  },
  {
   "cell_type": "code",
   "execution_count": 2,
   "id": "f8507e55-76ae-45d5-b158-62a0b1dcc7d3",
   "metadata": {},
   "outputs": [],
   "source": [
    "import gurobipy as gp\n",
    "from gurobipy import GRB\n",
    "import numpy as np"
   ]
  },
  {
   "cell_type": "markdown",
   "id": "1cbe5136-08b0-4fe7-b7f9-eb7ce47f9f89",
   "metadata": {},
   "source": [
    "**2. Define parameters**\n",
    "   - _G_: Number of generators **2**\n",
    "   - _$\\overline{P}_i$_: Production limit **[6,4]** in MW \n",
    "   - _$c_i$_: Cost **[0.015,0.03]** in $/kWh\n",
    "   - _D_: Load demand **8** in MW "
   ]
  },
  {
   "cell_type": "code",
   "execution_count": 3,
   "id": "020e40c9-6b0f-4d11-adfa-47c85b31ac9d",
   "metadata": {},
   "outputs": [],
   "source": [
    "n_generators = 2 # G\n",
    "p_lim = np.array([6,4]) # MW\n",
    "cost = np.array([0.015,0.03]) # $/kWh\n",
    "D = 8 # MW"
   ]
  },
  {
   "cell_type": "markdown",
   "id": "86f704d2-2baf-47b1-b38d-14ba2e233c95",
   "metadata": {},
   "source": [
    "**3. Define mathematical model**\n",
    "\n",
    "Objective function: \n",
    "- Minimize the sum cost _$c_i$_, which depends on the production _$p_i$_ amount of each generator _i_.\n",
    "\n",
    "Decision variables:\n",
    "- _$p_i$_ output of generator _i_.\n",
    "\n",
    "Constraints: \n",
    "- The sum of generation _$p_i$_ for each generator _i_ needs to equal the load _D_. \n",
    "- The output of each generator _$p_i$_ has to greater equal to $0$ and cannot exceed _$\\overline{P}_i$_.\n",
    "\n",
    "\\begin{align}\n",
    "\\min \\quad \n",
    "    & \\sum_{i\\in[G]}c_i p_i \\\\\n",
    "\\text{s.t.} \\quad \n",
    "    & \\sum_{i\\in[G]}p_i = D \\\\\n",
    "    & 0 \\le p_i \\le \\overline{P}_i && \\forall i \\in [G] \n",
    "\\end{align}"
   ]
  },
  {
   "cell_type": "code",
   "execution_count": null,
   "id": "ac10acce-11c2-4e26-a945-6f40ce24fa05",
   "metadata": {},
   "outputs": [
    {
     "name": "stdout",
     "output_type": "stream",
     "text": [
      "Set parameter Username\n",
      "Academic license - for non-commercial use only - expires 2025-04-10\n",
      "Gurobi Optimizer version 11.0.3 build v11.0.3rc0 (mac64[arm] - Darwin 23.6.0 23G93)\n",
      "\n",
      "CPU model: Apple M1\n",
      "Thread count: 8 physical cores, 8 logical processors, using up to 8 threads\n",
      "\n",
      "Optimize a model with 3 rows, 2 columns and 4 nonzeros\n",
      "Model fingerprint: 0x930ee9ad\n",
      "Coefficient statistics:\n",
      "  Matrix range     [1e+00, 1e+00]\n",
      "  Objective range  [2e+01, 3e+01]\n",
      "  Bounds range     [0e+00, 0e+00]\n",
      "  RHS range        [4e+00, 8e+00]\n",
      "Presolve removed 3 rows and 2 columns\n",
      "Presolve time: 0.01s\n",
      "Presolve: All rows and columns removed\n",
      "Iteration    Objective       Primal Inf.    Dual Inf.      Time\n",
      "       0    1.5000000e+02   0.000000e+00   0.000000e+00      0s\n",
      "\n",
      "Solved in 0 iterations and 0.02 seconds (0.00 work units)\n",
      "Optimal objective  1.500000000e+02\n"
     ]
    }
   ],
   "source": [
    "# Create model object\n",
    "m = gp.Model()\n",
    "m.setParam(\"OutputFlag\", 0)\n",
    "\n",
    "# Create the variables\n",
    "p = m.addVars(n_generators, lb=0, ub=GRB.INFINITY, name=\"p\")\n",
    "\n",
    "# Add constraints:\n",
    "# Total production\n",
    "m.addConstr(p.sum() == D)\n",
    "\n",
    "# Generator limits\n",
    "for i in range(n_generators):\n",
    "    m.addConstr(p[i] <= p_lim[i])\n",
    "\n",
    "# Add objective\n",
    "m.setObjective(sum(p[i]*cost[i]*1000 for i in range(n_generators)), GRB.MINIMIZE)\n",
    "\n",
    "# Solve\n",
    "m.optimize()"
   ]
  },
  {
   "cell_type": "markdown",
   "id": "d279fc03-f32d-4ec5-bd12-4dcace77116c",
   "metadata": {},
   "source": [
    "**4. Inspect the solution**"
   ]
  },
  {
   "cell_type": "code",
   "execution_count": 5,
   "id": "edd0ebc2-16c5-4062-850b-ff9de966aea4",
   "metadata": {},
   "outputs": [
    {
     "name": "stdout",
     "output_type": "stream",
     "text": [
      "The model is optimal.\n",
      "\n",
      "Objective value 150.0.\n",
      "\n",
      "Variables values:\n",
      "p[0] = 6.0\n",
      "p[1] = 2.0\n"
     ]
    }
   ],
   "source": [
    "# Check the status of the solver\n",
    "status = m.Status\n",
    "if status == GRB.OPTIMAL:\n",
    "    print(\"The model is optimal.\")\n",
    "elif status == GRB.INFEASIBLE:\n",
    "    print(\"The model is infeasible.\")\n",
    "elif status == GRB.UNBOUNDED:\n",
    "    print(\"The model is unbounded.\")\n",
    "else:\n",
    "    print(f\"Optimization ended with status {status}.\")\n",
    "print()\n",
    "\n",
    "# Objective value\n",
    "objective = m.ObjVal\n",
    "print(f\"Objective value {objective:.1f}.\\n\")\n",
    "\n",
    "print(\"Variables values:\")\n",
    "# Print the values of all variables\n",
    "for v in m.getVars():\n",
    "    print(f\"{v.VarName} = {v.X}\")"
   ]
  }
 ],
 "metadata": {
  "kernelspec": {
   "display_name": "Python 3 (ipykernel)",
   "language": "python",
   "name": "python3"
  },
  "language_info": {
   "codemirror_mode": {
    "name": "ipython",
    "version": 3
   },
   "file_extension": ".py",
   "mimetype": "text/x-python",
   "name": "python",
   "nbconvert_exporter": "python",
   "pygments_lexer": "ipython3",
   "version": "3.9.6"
  }
 },
 "nbformat": 4,
 "nbformat_minor": 5
}
