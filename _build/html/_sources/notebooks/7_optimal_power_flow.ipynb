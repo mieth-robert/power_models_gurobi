{
 "cells": [
  {
   "cell_type": "markdown",
   "id": "55e20af2-dca1-4209-b83c-038fb44072e4",
   "metadata": {},
   "source": [
    "# Optimal Power Flow and Locational Marginal Prices\n",
    "\n",
    "A fundamental component of the power system is the transmission network that allows the flow of power from generating resources to loads. A simple linear optimal power flow model is stated below."
   ]
  },
  {
   "cell_type": "markdown",
   "id": "ac8e5413-6f3a-489c-99b6-103e2037dd4d",
   "metadata": {},
   "source": [
    "**1. Import packages**\n",
    "   - We are using the gurobipy package to formulate a mathematical model and solve it. "
   ]
  },
  {
   "cell_type": "code",
   "execution_count": 4,
   "id": "c8141f83-28d3-4ae3-8120-98a6379573f9",
   "metadata": {},
   "outputs": [],
   "source": [
    "# import required packages\n",
    "\n",
    "import pandas as pd\n",
    "import numpy as np\n",
    "import math\n",
    "\n",
    "import gurobipy as gp\n",
    "from gurobipy import GRB\n",
    "\n",
    "import matplotlib.pyplot as plt"
   ]
  },
  {
   "cell_type": "markdown",
   "id": "6c6ad6e3-a903-41c7-8853-785b2d53bc08",
   "metadata": {},
   "source": [
    "**2. Define data**\n",
    "\n",
    "| Symbol                 | Description                                               | Data                |\n",
    "|------------------------|-----------------------------------------------------------|---------------------|\n",
    "| c                      | Generation cost                                           | [5, 20,100]         |\n",
    "|_$\\overline{P}_i$_      | Capacaity limit                                           | [102, 100, 100]     |\n",
    "|_$\\overline{F}_l$_      | Flow capacity limit                                       | [100, 100, 30]      |\n",
    "| _D_                    | Load                                                      | [0, 0, 130]         |\n",
    "| _L_                    | Number of Lines                                           | 3                   |\n",
    "| _G_                    | Number of Generators                                      | 3                   |\n",
    "| _G_                    | Number of Buses                                           | 3                   |\n",
    "| _$B_{l,j}$_            | Power Transfer Distribution Factor Matrix                 | \\begin{bmatrix} 1/3 & -1/3 & 0 \\\\ 2/3 &  1/3 & 0 \\\\ 1/3 &  2/3 & 0 \\end{bmatrix}|\n",
    "\n"
   ]
  },
  {
   "cell_type": "code",
   "execution_count": 26,
   "id": "7159712c-bbdb-4e50-99d8-132a6ca4b30e",
   "metadata": {},
   "outputs": [],
   "source": [
    "# problem parameters\n",
    "c = [5, 20, 100] # generation cost\n",
    "pmax = [102, 100, 100] # maximum generation\n",
    "fmax = [100, 100, 30] # maximum flow\n",
    "\n",
    "# Case 1\n",
    "D = [0, 0, 130] # nodal demand\n",
    "# Case 2\n",
    "# D = [0, 30, 130] # nodal demand\n",
    "\n",
    "n_bus = 3 # number of buses/nodes\n",
    "n_gen = 3 # number of generators\n",
    "n_line = 3 # number of lines\n",
    "\n",
    "# ptdf matrix \n",
    "B = np.array([[1/3, -1/3, 0], \n",
    "              [2/3,  1/3, 0],\n",
    "              [1/3,  2/3, 0]])\n"
   ]
  },
  {
   "cell_type": "markdown",
   "id": "0d501a02-8d7f-49c0-abca-f0c79978aed6",
   "metadata": {},
   "source": [
    "**3. Define mathematical model**\n",
    "\n",
    "**Objective function:**\n",
    "- Minimize the cost of generation given by cost function _$c_i(p_i)$_.\n",
    "\n",
    "**Decision variables:**\n",
    "- _$p_{i}^{\\text{c}}$_ production of generator _i_.\n",
    "- _$f_{l}$_ flow on line _l_.\n",
    "\n",
    "**Constraints:**\n",
    "- Energy balance: the total sum of generation needs to equal the load.\n",
    "- Capacity constraints: each generator is limited by its capacity\n",
    "- Power flow constraint: the flow in each line is calculated using the PTDF matrix and the net injections between generation and load in each node\n",
    "- Flow capacity constraint: each flow is limited by the line capacity. \n",
    "\n",
    "  \n",
    "\\begin{align}\n",
    "\\min \\quad \n",
    "    & \\sum_{i\\in[G]} c_i(p_i) \\\\\n",
    "\\text{s.t} \\quad\n",
    "    &(\\lambda):\\qquad \\sum_{i\\in[G]} p_i = \\sum_{i\\in[N]} D_i \\\\\n",
    "    &(\\overline{\\sigma}_i):\\qquad p_i \\le \\overline{P}_i && \\forall i\\in[G] \\\\\n",
    "    &(\\beta_{l}):\\qquad f_l = \\sum_{i\\in[N]} B_{l,i}\\Big(\\sum_{j\\in[G]_i} p_j - D_i\\Big)&& \\forall l\\in[L]  \\\\\n",
    "     &(\\mu_l^+):\\qquad f_l \\le \\overline{F}_l && \\forall l\\in[L] \\\\\n",
    "    &(\\mu_l^-):\\qquad -f_l \\le \\overline{F}_l && \\forall l\\in[L]\n",
    "\\end{align}"
   ]
  },
  {
   "cell_type": "code",
   "execution_count": 27,
   "id": "46e2343a-c696-4a93-a6e9-9eda2dcf3282",
   "metadata": {},
   "outputs": [],
   "source": [
    "\n",
    "# define model\n",
    "m = gp.Model()\n",
    "m.setParam(\"OutputFlag\", 0)\n",
    "\n",
    "# variables\n",
    "p = m.addVars(n_gen, lb=0, ub=GRB.INFINITY, name=\"p\") # generation at bus\n",
    "f = m.addVars(n_line, lb=-GRB.INFINITY, ub=GRB.INFINITY, name=\"f\") # flow through line \n",
    "\n",
    "# energy balance\n",
    "m.addConstr(sum(p[i] for i in range(n_gen)) == sum(D[i] for i in range(n_bus)), name=\"enerbal\")\n",
    "\n",
    "# generator constraints\n",
    "m.addConstrs(p[i] <= pmax[i] for i in range(n_gen))\n",
    "\n",
    "# power flow \n",
    "m.addConstrs((f[l] == sum(B[l,i]*(p[i] - D[i]) for i in range(n_bus)) for l in range(n_line)), name=\"flowdef\")\n",
    "m.addConstrs((f[l] <= fmax[l] for l in range(n_line)), name=\"flowlim_pos\")\n",
    "m.addConstrs((-f[l] <= fmax[l] for l in range(n_line)), name=\"flowlim_neg\")\n",
    "\n",
    "# objective\n",
    "m.setObjective(sum(p[i]*c[i] for i in range(n_gen)), GRB.MINIMIZE)\n",
    "\n",
    "# run\n",
    "m.optimize()"
   ]
  },
  {
   "cell_type": "code",
   "execution_count": 28,
   "id": "aa423743-e27f-400a-8dc8-529f64a963aa",
   "metadata": {},
   "outputs": [
    {
     "name": "stdout",
     "output_type": "stream",
     "text": [
      "System cost\n",
      "4450\n"
     ]
    }
   ],
   "source": [
    "# objective (cost of production)\n",
    "print(\"System cost\")\n",
    "print(f\"{m.ObjVal:.0f}\")"
   ]
  },
  {
   "cell_type": "code",
   "execution_count": 29,
   "id": "c6871061-2155-49eb-9a4e-8028c9a34da4",
   "metadata": {},
   "outputs": [
    {
     "name": "stdout",
     "output_type": "stream",
     "text": [
      "Production:\n",
      "[90.0, 0.0, 40.0]\n"
     ]
    }
   ],
   "source": [
    "# production \n",
    "p_res = [m.getVarByName(f\"p[{i}]\").X for i in range(n_gen)]\n",
    "print(\"Production:\")\n",
    "print(p_res)"
   ]
  },
  {
   "cell_type": "code",
   "execution_count": 30,
   "id": "8a72b783-6b9c-4042-ad83-1b3cef488979",
   "metadata": {},
   "outputs": [
    {
     "name": "stdout",
     "output_type": "stream",
     "text": [
      "Flows:\n",
      "[30.0, 60.0, 30.0]\n"
     ]
    }
   ],
   "source": [
    "# flow\n",
    "f_res = [m.getVarByName(f\"f[{l}]\").X for l in range(n_line)]\n",
    "print(\"Flows:\")\n",
    "print(f_res)"
   ]
  },
  {
   "cell_type": "code",
   "execution_count": 31,
   "id": "9df6d186-c0b7-48bc-aafe-f477fc526152",
   "metadata": {},
   "outputs": [
    {
     "name": "stdout",
     "output_type": "stream",
     "text": [
      "mu+\n",
      "[0.0, 0.0, -285.0]\n",
      "\n",
      "mu-\n",
      "[0.0, 0.0, 0.0]\n"
     ]
    }
   ],
   "source": [
    "# congestion prices\n",
    "mu_pos = [m.getConstrByName(f\"flowlim_pos[{l}]\").Pi for l in range(n_line)]\n",
    "mu_neg = [m.getConstrByName(f\"flowlim_neg[{l}]\").Pi for l in range(n_line)]\n",
    "print(\"mu+\")\n",
    "print(mu_pos)\n",
    "print()\n",
    "print(\"mu-\")\n",
    "print(mu_neg)"
   ]
  },
  {
   "cell_type": "code",
   "execution_count": 32,
   "id": "0ee1d3d0-7ae5-411d-b397-7f0fb69436d5",
   "metadata": {},
   "outputs": [
    {
     "name": "stdout",
     "output_type": "stream",
     "text": [
      "lambda\n",
      "100.0\n",
      "\n",
      "LMPs:\n",
      "[np.float64(5.0), np.float64(-90.0), np.float64(100.0)]\n"
     ]
    }
   ],
   "source": [
    "# lmp \n",
    "lam = m.getConstrByName(\"enerbal\").Pi\n",
    "lmp = [lam + sum(B[l,i]*(mu_pos[l] - mu_neg[l]) for l in range(n_line)) for i in range(n_bus)]\n",
    "print(\"lambda\")\n",
    "print(lam)\n",
    "print()\n",
    "print(\"LMPs:\")\n",
    "print(lmp)"
   ]
  },
  {
   "cell_type": "markdown",
   "id": "85b93378-6233-405e-a88b-1d6dfb09d4a3",
   "metadata": {},
   "source": [
    "**4. Define mathematical model using voltage angle formulation**\n",
    "\n",
    "**Objective function:**\n",
    "- Minimize the cost of generation given by cost function _$c_i(p_i)$_.\n",
    "\n",
    "**Decision variables:**\n",
    "- _$p_{i}^{\\text{c}}$_ production of generator _i_.\n",
    "- _$f_{ij}$_ flow from node _i_ to _j_.\n",
    "- _$\\theta_{i}$_ voltage angle in node _i_.\n",
    "\n",
    "**Constraints:**\n",
    "- Energy balance: the total sum of generation subtracted by the load equals the sum of incoming flows into the node.\n",
    "- Capacity constraints: each generator is limited by its capacity.\n",
    "- Power flow constraint: the flow in each line is the susceptance multiplied my the difference in voltage angles from node _i_ to _j_.\n",
    "- Flow capacity constraint: each flow is limited by the line capacity. \n",
    "\n",
    "  \n",
    "\\begin{align}\n",
    "\\min \\quad \n",
    "    & \\sum_{i\\in[G]} c_i(p_i) \\\\\n",
    "\\text{s.t} \\quad\n",
    "    &(\\lambda_i):\\qquad \\sum_{j\\in[G]_i}p_j - D_i = \\sum_{j:ij\\in\\set{L}}f_{ij} && \\forall i \\in [N] \\\\ \n",
    "    &(\\overline{\\sigma}_i):\\qquad p_i \\le \\overline{P}_i && \\forall i\\in[G] \\\\\n",
    "    &(\\beta_{ij}):\\qquad f_{ij} =  b_{ij}(\\theta_i - \\theta_j )&& \\forall ij\\in\\set{L} \\\\\n",
    "    &\\hspace{5em} \\theta_{i=slack} = 0 \\\\\n",
    "     &(\\mu_{ij}^+):\\qquad f_{ij} \\le \\overline{F}_{ij} && \\forall ij\\in\\set{L} \\\\\n",
    "    &(\\mu_{ij}^-):\\qquad -f_{ij} \\le \\overline{F}_{ij} && \\forall ij\\in\\set{L}\n",
    "\\end{align}"
   ]
  },
  {
   "cell_type": "markdown",
   "id": "ebbc703f-8b66-4fdc-92b3-4e241485b6e9",
   "metadata": {},
   "source": [
    "**Define new data**\n",
    "\n",
    "| Symbol                 | Description                                               | Data                |\n",
    "|------------------------|-----------------------------------------------------------|---------------------|\n",
    "| c                      | Generation cost                                           | [5, 20,100]         |\n",
    "|_$\\overline{P}_i$_      | Capacity limit                                           | [102, 100, 100]     |\n",
    "|_$\\overline{F}_{i,j}$_  | Flow capacity limit            | \\begin{bmatrix} 0 & 100 & 50 \\\\ 50 &  0 & 100 \\\\ 30 &  50 & 0 \\end{bmatrix} |\n",
    "| _$D_i$_                | Load in node _i_                                          | [0, 0, 130]         |\n",
    "| _L_                    | Number of Lines                                           | 3                   |\n",
    "| _G_                    | Number of Generators                                      | 3                   |\n",
    "| _G_                    | Number of Buses                                           | 3                   |\n",
    "| _b_                    | susceptance                 | 500 |\n",
    "\n"
   ]
  },
  {
   "cell_type": "code",
   "execution_count": 35,
   "id": "93f38804-34a6-433a-80c3-80549edf0d4f",
   "metadata": {},
   "outputs": [],
   "source": [
    "# define model \n",
    "# assuming generator 1 is in node 1, generator 2 is in node 2, generator 3 is in node 3\n",
    "# assuming constant susceptance of 500\n",
    "b = 500\n",
    "slack = 1\n",
    "fmax = np.array([[0, 100, 50], \n",
    "              [50,  0, 100],\n",
    "              [30,  50, 0]])\n",
    "\n",
    "m = gp.Model()\n",
    "m.setParam(\"OutputFlag\", 0)\n",
    "\n",
    "# variables\n",
    "p = m.addVars(n_gen, lb=0, ub=GRB.INFINITY, name=\"p\") # generation at bus\n",
    "f = m.addVars(n_bus, n_bus, lb=-GRB.INFINITY, ub=GRB.INFINITY, name=\"f\") # flow through line \n",
    "theta = m.addVars(n_line, lb=-GRB.INFINITY, ub=GRB.INFINITY, name=\"f\") # flow through line \n",
    "\n",
    "# energy balance\n",
    "for i in range(n_bus):\n",
    "    m.addConstr(p[i] - D[i] == sum(f[i,j] for j in range(n_bus)), name=\"enerbal\")\n",
    "\n",
    "# generator constraints\n",
    "m.addConstrs(p[i] <= pmax[i] for i in range(n_gen))\n",
    "\n",
    "# power flow \n",
    "for i in range(n_bus):\n",
    "    for j in range(n_bus):\n",
    "        m.addConstr((f[i,j] == b*(theta[i] - theta[j])), name=\"flowdef\")\n",
    "\n",
    "for i in range(n_bus): \n",
    "    for j in range(n_bus):\n",
    "        m.addConstr((f[i,j] <= fmax[i,j]), name=\"flowlim_pos\")\n",
    "        m.addConstr((-f[i,j] <= fmax[i,j]), name=\"flowlim_neg\")\n",
    "\n",
    "# slack bus\n",
    "m.addConstr(theta[1] == 0,name=\"slack_bus\")\n",
    "\n",
    "\n",
    "# objective\n",
    "m.setObjective(sum(p[i]*c[i] for i in range(n_gen)), GRB.MINIMIZE)\n",
    "\n",
    "# run\n",
    "m.optimize()"
   ]
  },
  {
   "cell_type": "code",
   "execution_count": 36,
   "id": "ed8eb284-0952-463e-bead-608510d57e9a",
   "metadata": {},
   "outputs": [
    {
     "name": "stdout",
     "output_type": "stream",
     "text": [
      "6450\n"
     ]
    }
   ],
   "source": [
    "# objective (cost of production)\n",
    "print(f\"{m.ObjVal:.0f}\")"
   ]
  },
  {
   "cell_type": "code",
   "execution_count": null,
   "id": "0175ddda-b27a-47a0-b473-9a3f0b99bd90",
   "metadata": {},
   "outputs": [],
   "source": []
  }
 ],
 "metadata": {
  "kernelspec": {
   "display_name": "Python 3 (ipykernel)",
   "language": "python",
   "name": "python3"
  },
  "language_info": {
   "codemirror_mode": {
    "name": "ipython",
    "version": 3
   },
   "file_extension": ".py",
   "mimetype": "text/x-python",
   "name": "python",
   "nbconvert_exporter": "python",
   "pygments_lexer": "ipython3",
   "version": "3.9.6"
  }
 },
 "nbformat": 4,
 "nbformat_minor": 5
}
