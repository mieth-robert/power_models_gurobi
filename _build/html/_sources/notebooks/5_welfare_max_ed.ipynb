{
 "cells": [
  {
   "cell_type": "markdown",
   "id": "a3190c0b-b7bd-4e77-addc-ff4cf4510c4b",
   "metadata": {},
   "source": [
    "# Welfare Maximizing Market Clearing\n",
    "\n",
    "Given the demand function and the bids from the producers we want to clear the market such that welfare is maximized. We define welfare as the difference between market value ($V$) and producer cost ($C$).\n"
   ]
  },
  {
   "cell_type": "markdown",
   "id": "b3b6d851-8b5a-4493-92dd-bbffabe49e36",
   "metadata": {},
   "source": [
    "**1. Load packages**\n",
    "   - We are using the gurobipy package to formulate a mathematical model and solve it. "
   ]
  },
  {
   "cell_type": "code",
   "execution_count": 2,
   "id": "1968a396-dc06-42be-b13f-09565ab56b93",
   "metadata": {},
   "outputs": [],
   "source": [
    "import numpy as np\n",
    "import gurobipy as gp\n",
    "from gurobipy import GRB\n",
    "\n",
    "import matplotlib.pyplot as plt"
   ]
  },
  {
   "cell_type": "markdown",
   "id": "94b6adf0-ca6c-4916-92c4-c78fbb97ea0f",
   "metadata": {},
   "source": [
    "**2. Define Parameters**\n",
    "\n",
    "We study an exemplary market with 4 producers with the following offers:\n",
    "\n",
    "| Producer       | Offer price in $/MW    | Offer amount in MW  |\n",
    "|----------------|------------------------|---------------------|\n",
    "| Renewable      | 0                      | 2                   |\n",
    "| Cheap          | 10                     | 100                 |\n",
    "| Base           | 50                     | 500                 |\n",
    "| Peak           | 80                     | 20                  |\n",
    "\n",
    "We model demand through an inverse demand-price functon: $\\pi(q^D) = \\beta q^D + \\pi^{max}$ with the following parameters:\n",
    "- $\\beta= -25$\n",
    "- $\\pi^{max} = 11,000$.\n",
    "\n",
    "We first define these parameters and create a basic visualization.\n"
   ]
  },
  {
   "cell_type": "code",
   "execution_count": 6,
   "id": "2985a244-605a-46fa-90bf-ab48efc861a2",
   "metadata": {},
   "outputs": [],
   "source": [
    "# Inverse price demand function\n",
    "# pi(q) = beta * q + pi_max\n",
    "beta = -25\n",
    "pi_max = 11e3\n",
    "# We can use a lambda function to define this relationship in a single line\n",
    "pi = lambda q: beta*q + pi_max\n",
    "\n",
    "# Generators\n",
    "c = [0, 10, 50, 80] # vector of cost [$/MW]\n",
    "p_max = [200, 100, 500, 200] # vector of maximum capacity [MW]\n",
    "gen_type = [\"RES\", \"cheap\", \"base\", \"peak\"]\n",
    "n_gen = len(c) # number of generators"
   ]
  },
  {
   "cell_type": "code",
   "execution_count": 8,
   "id": "ee499503-3822-4f76-9380-dd4d1b47eecc",
   "metadata": {},
   "outputs": [
    {
     "data": {
      "image/png": "[encoded data removed]",
      "text/plain": [
       "<Figure size 640x480 with 1 Axes>"
      ]
     },
     "metadata": {},
     "output_type": "display_data"
    }
   ],
   "source": [
    "# Create a vizualization\n",
    "\n",
    "# First plot the individual offer bids\n",
    "fig, ax = plt.subplots(1,1)\n",
    "# The subplots(x,y) command creates a figure with x rows and y columns of plots.\n",
    "# Here we only want one plot. Using subplots(1,2) would create two plots next to each other inside the same figure.\n",
    "\n",
    "# Each bid is essentially a horizontal line that we can define through its start and end point\n",
    "for i in range(n_gen):\n",
    "  x1 = sum(p_max[:i]) # define the start point of each line\n",
    "  x2 = sum(p_max[:i+1]) # define the end point of each line\n",
    "  x = [x1, x2]\n",
    "  y = [c[i], c[i]]\n",
    "  ax.plot(x, y, label=gen_type[i], linewidth=3) # plot the line\n",
    "\n",
    "  # At vertical lines to make it nice\n",
    "  ax.vlines([x1, x2], 0, c[i], 'black', 'dashed', linewidth=0.8)\n",
    "\n",
    "\n",
    "# Now lets add the demand function by creating some points\n",
    "xs = np.arange(0, 1000, 50) # creates a list of number from 0 to 1000 in steps of 50\n",
    "ys = [pi(x) for x in xs] # creates a list of resulting prices using \"list comprehension\"\n",
    "\n",
    "# Plot the line\n",
    "ax.plot(xs, ys, 'black', label=\"demand\")\n",
    "\n",
    "# Enable legend\n",
    "ax.legend() # turn legend on\n",
    "\n",
    "# Add axis labels\n",
    "ax.set_ylabel(\"Price [$]\")\n",
    "ax.set_xlabel(\"Production [MW]\")\n",
    "\n",
    "# Restrict the visible plot to the relevant area\n",
    "ax.set_ylim([-1, 100]);"
   ]
  },
  {
   "cell_type": "markdown",
   "id": "6365b663-0661-4345-ba84-fb170c38fc75",
   "metadata": {},
   "source": [
    "**3. Define mathematical model**\n",
    "\n",
    "Let $\\pi^*$ be the market price and $q^*$ the market quantity after clearing. From this we get:\n",
    "\\begin{align}\n",
    "V &= \\frac{1}{2}q^*(\\pi^{max} - \\pi^*) + q^*\\pi^*\n",
    "   = \\frac{1}{2}q^*(\\pi^* + \\pi^{max})\n",
    "   = \\frac{1}{2}q^*(\\beta q^* + \\pi^{max} + \\pi^{max}) \\\\\n",
    "   &= \\frac{1}{2} \\beta (q^*)^2 + \\pi^{max}q^* \\\\\n",
    "C &= \\sum_{i=1}^G c_i  q_i^{G,*}\n",
    "\\end{align}\n",
    "\n",
    "\n",
    "So the resulting market clearing problem is:\n",
    "\n",
    "\\begin{align}\n",
    "\\max_{q^G, q^D} \\quad &V - C \\\\\n",
    "\\text{s.t.} \\quad\n",
    "  & \\sum_{i=1}^G c_i  q_i^{G} = q^D \\\\\n",
    "  & q_i^G \\le q_i^{G,max} \\quad i \\in [G] \\\\\n",
    "  & q_i^G, q^D \\ge 0\n",
    "\\end{align}\n"
   ]
  },
  {
   "cell_type": "code",
   "execution_count": 11,
   "id": "8f08d8c4-1b39-4e8b-9f85-f494cf64a3d6",
   "metadata": {},
   "outputs": [],
   "source": [
    "# define the optimization program\n",
    "\n",
    "m = gp.Model()\n",
    "m.setParam('OutputFlag', 0)\n",
    "\n",
    "# variables\n",
    "p = m.addVars(n_gen, lb=0, ub=GRB.INFINITY, name=\"p\")\n",
    "d = m.addVar(lb=0, ub=GRB.INFINITY, name=\"d\")\n",
    "\n",
    "# constraints\n",
    "m.addConstr(p.sum() == d, name=\"enerbal\")\n",
    "for i in range(n_gen):\n",
    "    m.addConstr(p[i] <= p_max[i])\n",
    "\n",
    "# define objective\n",
    "V = 0.5*beta*(d**2) + pi_max*d\n",
    "C = sum(p[i]*c[i] for i in range(n_gen))\n",
    "welfare = V - C\n",
    "m.setObjective(welfare, GRB.MAXIMIZE)"
   ]
  },
  {
   "cell_type": "code",
   "execution_count": 12,
   "id": "c185737e-42a4-4537-9908-96cf64c1a83f",
   "metadata": {},
   "outputs": [
    {
     "name": "stdout",
     "output_type": "stream",
     "text": [
      "Resulting welfare: 2412050.0 $\n",
      "Resulting generation cost: 7900.0 $\n",
      "Resulting demand:  438.0 MW\n",
      "Generator outputs:\n",
      "   RES: 200.0 MW\n",
      "   cheap: 100.0 MW\n",
      "   base: 138.0 MW\n",
      "   peak: 0.0 MW\n"
     ]
    }
   ],
   "source": [
    "# clear the market and print the results\n",
    "m.optimize()\n",
    "\n",
    "welfare_res = m.ObjVal\n",
    "d_res = d.X\n",
    "p_res = [p[i].X for i in range(n_gen)]\n",
    "C_res = C.getValue()\n",
    "print(f\"Resulting welfare: {welfare_res:.1f} $\")\n",
    "print(f\"Resulting generation cost: {C_res:.1f} $\")\n",
    "print(f\"Resulting demand:  {d_res:.1f} MW\")\n",
    "print(f\"Generator outputs:\")\n",
    "for i in range(n_gen):\n",
    "  print(f\"   {gen_type[i]}: {p_res[i]:.1f} MW\")"
   ]
  },
  {
   "cell_type": "code",
   "execution_count": 13,
   "id": "2b4b2828-91b4-422c-aa5d-3e3547503739",
   "metadata": {},
   "outputs": [
    {
     "name": "stdout",
     "output_type": "stream",
     "text": [
      "The market clearing price is 50.0 $/MW\n"
     ]
    }
   ],
   "source": [
    "# compute the price\n",
    "pi_opt = pi(d_res)\n",
    "print(f\"The market clearing price is {pi_opt:.1f} $/MW\")"
   ]
  },
  {
   "cell_type": "code",
   "execution_count": 14,
   "id": "0cdb93d3-101c-4a3b-a148-dcfc79b8c763",
   "metadata": {},
   "outputs": [
    {
     "name": "stdout",
     "output_type": "stream",
     "text": [
      "The dual of the energy balance is -50.0\n"
     ]
    }
   ],
   "source": [
    "# compute the dual of the energy balance\n",
    "\n",
    "lam = m.getConstrByName(\"enerbal\").Pi\n",
    "print(f\"The dual of the energy balance is {lam:.1f}\")"
   ]
  },
  {
   "cell_type": "code",
   "execution_count": 15,
   "id": "d3611c42-87fb-40e8-b59a-f69494caece6",
   "metadata": {},
   "outputs": [
    {
     "name": "stdout",
     "output_type": "stream",
     "text": [
      "Resulting welfare: 7900.0 $\n",
      "Resulting generation cost: 7900.0 $\n",
      "Resulting demand:  438.0 MW\n",
      "Generator outputs:\n",
      "   RES: 200.0 MW\n",
      "   cheap: 100.0 MW\n",
      "   base: 138.0 MW\n",
      "   peak: 0.0 MW\n",
      "\n",
      "The dual of the energy balance is 50.0\n"
     ]
    }
   ],
   "source": [
    "# let's redo the computation as our known ED with fixed demand\n",
    "\n",
    "D = d_res\n",
    "\n",
    "m = gp.Model()\n",
    "m.setParam('OutputFlag', 0)\n",
    "\n",
    "# variables\n",
    "p = m.addVars(n_gen, lb=0, ub=GRB.INFINITY, name=\"p\")\n",
    "\n",
    "# constraints\n",
    "m.addConstr(p.sum() == D, name=\"enerbal\")\n",
    "for i in range(n_gen):\n",
    "    m.addConstr(p[i] <= p_max[i])\n",
    "\n",
    "# define objective\n",
    "C = sum(p[i]*c[i] for i in range(n_gen))\n",
    "m.setObjective(C, GRB.MINIMIZE)\n",
    "\n",
    "# clear the market and print the results\n",
    "m.optimize()\n",
    "\n",
    "welfare_res = m.ObjVal\n",
    "p_res = [m.getVarByName(f\"p[{i}]\").X for i in range(n_gen)]\n",
    "C_res = C.getValue()\n",
    "print(f\"Resulting welfare: {welfare_res:.1f} $\")\n",
    "print(f\"Resulting generation cost: {C_res:.1f} $\")\n",
    "print(f\"Resulting demand:  {d_res:.1f} MW\")\n",
    "print(f\"Generator outputs:\")\n",
    "for i in range(n_gen):\n",
    "  print(f\"   {gen_type[i]}: {p_res[i]:.1f} MW\")\n",
    "\n",
    "print()\n",
    "lam = m.getConstrByName(\"enerbal\").Pi\n",
    "print(f\"The dual of the energy balance is {lam:.1f}\")"
   ]
  },
  {
   "cell_type": "code",
   "execution_count": null,
   "id": "3533f373-ada4-49d2-86c9-8be1a65f8450",
   "metadata": {},
   "outputs": [],
   "source": []
  }
 ],
 "metadata": {
  "kernelspec": {
   "display_name": "Python 3 (ipykernel)",
   "language": "python",
   "name": "python3"
  },
  "language_info": {
   "codemirror_mode": {
    "name": "ipython",
    "version": 3
   },
   "file_extension": ".py",
   "mimetype": "text/x-python",
   "name": "python",
   "nbconvert_exporter": "python",
   "pygments_lexer": "ipython3",
   "version": "3.9.6"
  }
 },
 "nbformat": 4,
 "nbformat_minor": 5
}
