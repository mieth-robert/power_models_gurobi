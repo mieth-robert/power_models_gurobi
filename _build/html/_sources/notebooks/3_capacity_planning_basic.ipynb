{
 "cells": [
  {
   "cell_type": "markdown",
   "id": "50aac03b-0e56-46fe-bc14-8d7e7b049e0d",
   "metadata": {},
   "source": [
    "# Basic Capacity Planning\n",
    "\n",
    "Capacity planning is the process of figuring out the optimal amount of electricity generation capacity needed to reliably meet future demand within a power grid."
   ]
  },
  {
   "cell_type": "markdown",
   "id": "b52df6dc-33c3-424d-be27-64eba88f54ae",
   "metadata": {},
   "source": [
    "**1. Load packages**\n",
    "   - We are using the gurobipy package to formulate a mathematical model and solve it. "
   ]
  },
  {
   "cell_type": "code",
   "execution_count": 6,
   "id": "380b9c84-7a23-4590-a43c-72f8a557e80e",
   "metadata": {},
   "outputs": [],
   "source": [
    "import gurobipy as gp\n",
    "from gurobipy import GRB\n",
    "import numpy as np\n",
    "\n",
    "import matplotlib.pyplot as plt"
   ]
  },
  {
   "cell_type": "markdown",
   "id": "d936db0f-fb28-4b0f-9d7f-9a22cd920bea",
   "metadata": {},
   "source": [
    "**2. Define parameters**\n",
    "\n",
    "| Symbol         | Description                                               | Data                |\n",
    "|----------------|-----------------------------------------------------------|---------------------|\n",
    "| G              | Number of generators                                      | 2                   |\n",
    "| H              | Number of hours                                           | 8760                |\n",
    "| O              | Number of segments in piecewise load duration curve       | 2                   |\n",
    "| $FC_i$         | Fixed cost                                                | [140, 120]          |\n",
    "| $VC_i$         | Variable cost                                             | [0.0238, 0.0336]    |\n",
    "| $ldcm_o$       | slope of piecewise load duration curve in GW              | [-0.003, -0.0004427]|\n",
    "| $ldcn_o$       | intercepts of piecewise load duration curve in GW         | [15, 8.728]         |\n",
    "\n"
   ]
  },
  {
   "cell_type": "code",
   "execution_count": 3,
   "id": "0e9c1619-c2e7-45bb-aa65-6577ecadd0d3",
   "metadata": {},
   "outputs": [],
   "source": [
    "# high cap (HC) and low cap (LC) cost functions\n",
    "# in M$/GW \n",
    "G = 2\n",
    "H = 8760\n",
    "fixed = [140, 120] # HC LC\n",
    "varia = [0.0238, 0.0336] # HC LC\n",
    "\n",
    "# piecewise load duration curve in GW\n",
    "ldc_m = [-0.003, -0.0004427] # slope \n",
    "ldc_n = [15, 8.628] # intercepts\n"
   ]
  },
  {
   "cell_type": "markdown",
   "id": "0c0052c7-eacf-4c1b-ad63-2a9f5936af15",
   "metadata": {},
   "source": [
    "**3. Define mathematical model**\n",
    "\n",
    "Objective function: \n",
    "- Minimize the sum cost _$c_i$_, which depends on the capacity _$\\overline{p}_{i}$_ and production _$p_{i,h}$_ of each generator _i_.\n",
    "\n",
    "Decision variables:\n",
    "- _$p_{i,h}$_ production of generator _i_ in hour _h_.\n",
    "- _$\\overline{p}_{i}$_ capacity of generator _i_.\n",
    "\n",
    "Constraints: \n",
    "- The cost _$c_i$_ is equal to the fixed cost _$FC_{i}$_ multiplied by the capacity _$\\overline{p}_{i}$_ and the variable cost _$VC_{i}$_ multiplied by the production _$p_i$_.\n",
    "- The sum of capacity _$\\overline{p}_{i}$_ needs to be greater equal to the load duration curve.\n",
    "- The output of each generator _$p_i$_ has to greater equal to $0$ and cannot exceed _$\\overline{p}_{i}$_.\n",
    "  \n",
    "\\begin{align}\n",
    "\\min \\quad & \\sum_{i=1}^{G} c_i  \\hspace{-4cm}\\\\\n",
    "\\text{s.t.}\\quad & c_i = \\left( FC_{i} \\overline{p}_{i} + \\sum_{h=1}^{H} VC_i p_{i,h} \\right) && \\forall h \\in [H] \\\\\n",
    "& \\sum_{i=1}^{G} p_{i,h} \\geq ldcm_{o}*h + ldcn_{o} && \\forall h \\in [H], o=1,2 \\\\\n",
    "& 0 \\leq p_{i,h} \\leq  \\overline{p}_{i} && \\forall i \\in [G] , h \\in [H]  \n",
    "\\end{align}\n",
    "\n"
   ]
  },
  {
   "cell_type": "code",
   "execution_count": 4,
   "id": "ca8cb242-4a50-402d-9d71-e1b534bb584f",
   "metadata": {},
   "outputs": [
    {
     "name": "stdout",
     "output_type": "stream",
     "text": [
      "Set parameter Username\n",
      "Academic license - for non-commercial use only - expires 2025-04-10\n"
     ]
    }
   ],
   "source": [
    "m = gp.Model()\n",
    "m.setParam('OutputFlag', 0)\n",
    "\n",
    "cost = m.addVars(G, name=\"cost\") # $\n",
    "cap = m.addVars(G, name=\"cap\") # installed capacity in GW\n",
    "p = m.addVars(G, H, name=\"p\") # hourly generator utilization\n",
    "\n",
    "for i in range(G):\n",
    "    # compute total cost \n",
    "    m.addConstr(cost[i] == fixed[i]*cap[i] + varia[i]*sum(p[i,h] for h in range(H)))\n",
    "    for h in range(H):\n",
    "        m.addConstr(p[i,h] <= cap[i])\n",
    "for h in range(H):\n",
    "    for o in range(G):\n",
    "        # production must at least meet demand\n",
    "        m.addConstr(sum(p[i,h] for i in range(G)) >= ldc_m[o]*h + ldc_n[o])\n",
    "\n",
    "m.setObjective(cost.sum(), GRB.MINIMIZE)\n",
    "\n",
    "m.optimize()\n"
   ]
  },
  {
   "cell_type": "markdown",
   "id": "8cc3b766-83b9-4def-8be9-3db74a4f0d62",
   "metadata": {},
   "source": [
    "**4. Inspect the solution**\n"
   ]
  },
  {
   "cell_type": "code",
   "execution_count": 5,
   "id": "5af6c54d-c4fa-4f98-bd00-7ad4250be0ad",
   "metadata": {},
   "outputs": [
    {
     "name": "stdout",
     "output_type": "stream",
     "text": [
      "High cap generation capacity in GW: 8.88\n",
      "Low cap generation capacity in GW:  6.12\n"
     ]
    }
   ],
   "source": [
    "\n",
    "print(f\"High cap generation capacity in GW: {m.getVarByName('cap[0]').X:.2f}\")\n",
    "print(f\"Low cap generation capacity in GW:  {m.getVarByName('cap[1]').X:.2f}\")"
   ]
  },
  {
   "cell_type": "code",
   "execution_count": null,
   "id": "4ddd8b6c-decf-4633-a783-a076736c1796",
   "metadata": {},
   "outputs": [],
   "source": []
  }
 ],
 "metadata": {
  "kernelspec": {
   "display_name": "Python 3 (ipykernel)",
   "language": "python",
   "name": "python3"
  },
  "language_info": {
   "codemirror_mode": {
    "name": "ipython",
    "version": 3
   },
   "file_extension": ".py",
   "mimetype": "text/x-python",
   "name": "python",
   "nbconvert_exporter": "python",
   "pygments_lexer": "ipython3",
   "version": "3.9.6"
  }
 },
 "nbformat": 4,
 "nbformat_minor": 5
}
