{
 "cells": [
  {
   "cell_type": "markdown",
   "id": "3b9aac39",
   "metadata": {},
   "source": [
    "Notation used in this chapter:\n",
    "\n",
    "| **Variables/Parameters** |               |\n",
    "|-------------------------|--------------------------------|\n",
    "| $p$                    | Active power production        |\n",
    "| $c(p)$                 | Cost of power production       |\n",
    "| $D$                    | Demand                         |\n",
    "| $\\overline{P}$         | Production capacity            |\n",
    "| $G$                    | Number of generators           |\n",
    "\n",
    "| **Indices**            |                                |\n",
    "|-------------------------|--------------------------------|\n",
    "| $i$                    | Generator index                |\n",
    "| $t$                    | Timestep index                 |\n",
    "\n",
    "\n",
    "\n",
    "# Economic Dispatch\n",
    "\n",
    "Economic dispatch is concerned with finding the least-cost combination of generation resources to match a given demand. \n",
    "\n",
    "## Economic Dispatch\n",
    "\n",
    "In its most basic form, economic dispatch is written as \n",
    "\n",
    "\n",
    "\\begin{align}\n",
    "\\min \\quad \n",
    "    & \\sum_{i\\in[G]}c_i(p_i) \\\\\n",
    "\\text{s.t.} \\quad \n",
    "    & \\sum_{i\\in[G]}p_i = D \\\\\n",
    "    & p_i \\le \\overline{P}_i && \\forall i\n",
    "\\end{align}"
   ]
  },
  {
   "cell_type": "code",
   "execution_count": 1,
   "id": "0337fb2b",
   "metadata": {},
   "outputs": [
    {
     "name": "stdout",
     "output_type": "stream",
     "text": [
      "Set parameter Username\n"
     ]
    },
    {
     "name": "stdout",
     "output_type": "stream",
     "text": [
      "Academic license - for non-commercial use only - expires 2025-11-15\n"
     ]
    },
    {
     "name": "stdout",
     "output_type": "stream",
     "text": [
      "Production of generator 1: 258.84 MW\n",
      "Production of generator 2: 636.99 MW\n",
      "Production of generator 3: 94.67 MW\n",
      "Production of generator 4: 509.51 MW\n"
     ]
    }
   ],
   "source": [
    "# import needed librarys\n",
    "\n",
    "import numpy as np\n",
    "import gurobipy as gp\n",
    "from gurobipy import GRB\n",
    "\n",
    "# define paramters\n",
    "\n",
    "n_gen = 4 # number of generators \n",
    "c2 = np.array([0.148, 0.034, 0.158, 0.106]) # quadratic term of generator cost function \n",
    "c1 = np.array([199.4, 232.7, 246.1, 168.0]) # linear term of generator cost function \n",
    "c0 = np.array([16625, 16806, 15483, 16689]) # constat term of generator cost function\n",
    "\n",
    "D = 1500 # demand \n",
    "\n",
    "# define the model\n",
    "\n",
    "m = gp.Model()\n",
    "m.setParam('OutputFlag', 0)\n",
    "\n",
    "# variables\n",
    "p = m.addVars(4, lb=0, ub=GRB.INFINITY, name=\"p\") # generator production \n",
    "\n",
    "# constraints\n",
    "m.addConstr(p.sum() == D, name=\"lam\") # energy balance\n",
    "\n",
    "# define objective\n",
    "m.setObjective(\n",
    "    sum(c2[i]*(p[i]**2) + c1[i]*p[i] + c0[i] for i in range(n_gen)),\n",
    "    GRB.MINIMIZE\n",
    ")\n",
    "\n",
    "# run the model\n",
    "m.optimize()\n",
    "\n",
    "# prepare results\n",
    "p_res = [m.getVarByName(f'p[{i}]').X for i in range(n_gen)]\n",
    "\n",
    "# explore results\n",
    "for i, value in enumerate(p_res):\n",
    "    print(f\"Production of generator {i + 1}: {value:.2f} MW\")"
   ]
  }
 ],
 "metadata": {
  "jupytext": {
   "formats": "md:myst",
   "text_representation": {
    "extension": ".md",
    "format_name": "myst",
    "format_version": 0.13,
    "jupytext_version": "1.11.5"
   }
  },
  "kernelspec": {
   "display_name": "Python 3",
   "language": "python",
   "name": "python3"
  },
  "language_info": {
   "codemirror_mode": {
    "name": "ipython",
    "version": 3
   },
   "file_extension": ".py",
   "mimetype": "text/x-python",
   "name": "python",
   "nbconvert_exporter": "python",
   "pygments_lexer": "ipython3",
   "version": "3.12.1"
  },
  "source_map": [
   13,
   51
  ]
 },
 "nbformat": 4,
 "nbformat_minor": 5
}